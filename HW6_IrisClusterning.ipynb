{
  "nbformat": 4,
  "nbformat_minor": 0,
  "metadata": {
    "colab": {
      "provenance": []
    },
    "kernelspec": {
      "name": "python3",
      "display_name": "Python 3"
    },
    "language_info": {
      "name": "python"
    }
  },
  "cells": [
    {
      "cell_type": "code",
      "execution_count": 7,
      "metadata": {
        "colab": {
          "base_uri": "https://localhost:8080/"
        },
        "id": "OunK8_J_K37X",
        "outputId": "41c176bc-f42f-44bc-bd2f-bec9f8ce490e"
      },
      "outputs": [
        {
          "output_type": "stream",
          "name": "stdout",
          "text": [
            "Final Clustering Result:\n",
            "[2 1 2 1 2 1 0 0 2 0 2 2 2 1 2 0 0 1 2 1 1 2 2 0 2 2 1 0 2 0 1 2 2 1 1 1 2\n",
            " 0 1 2 1 2 1 0 2 0 0 2 0 1 1 0 2 1 0 0 1 0 1 1 0 0 0 0 1 2 0 1 1 2 2 0 2 1\n",
            " 1 0 2 0 1 0 0 1 1 0 1 0 1 2 1 0 0 0 2 2 0 0 0 0 0 2 2 1 2 2 1 0 2 1 2 0 2\n",
            " 1 1 0 0 0 0 1 2 1 2 0 1 0 0 0 2 0 1 2 1 0 2 1 1 1 2 1 2 2 1 1 1 2 0 2 0 1\n",
            " 2 0]\n"
          ]
        }
      ],
      "source": [
        "import numpy as np\n",
        "from sklearn.datasets import load_iris\n",
        "from sklearn.metrics import pairwise_distances_argmin_min\n",
        "\n",
        "\n",
        "iris = load_iris()\n",
        "data = iris.data\n",
        "num_data_points = data.shape[0]\n",
        "num_features = data.shape[1]\n",
        "\n",
        "\n",
        "population_size = 50\n",
        "num_generations = 100\n",
        "num_clusters = 3\n",
        "mutation_rate = 0.1\n",
        "\n",
        "\n",
        "\n",
        "def initialize_population():\n",
        "    return np.random.randint(0, num_clusters, size=(population_size, num_data_points))\n",
        "\n",
        "\n",
        "\n",
        "def calculate_fitness(population):\n",
        "    distances = pairwise_distances_argmin_min(data, data[population], axis=1)[1]\n",
        "    fitness = np.sum(distances)\n",
        "    return fitness\n",
        "\n",
        "\n",
        "\n",
        "def crossover(parent1, parent2):\n",
        "    crossover_point = np.random.randint(1, num_data_points)\n",
        "    child1 = np.concatenate([parent1[:crossover_point], parent2[crossover_point:]])\n",
        "    child2 = np.concatenate([parent2[:crossover_point], parent1[crossover_point:]])\n",
        "    return child1, child2\n",
        "\n",
        "\n",
        "\n",
        "\n",
        "def mutate(chromosome):\n",
        "    mutated_chromosome = chromosome.copy()\n",
        "    for i in range(num_data_points):\n",
        "        if np.random.rand() < mutation_rate:\n",
        "            mutation_operation = np.random.choice(['label_swap', 'label_random'])\n",
        "            if mutation_operation == 'label_swap':\n",
        "                mutated_chromosome[i] = np.random.randint(num_clusters)\n",
        "            elif mutation_operation == 'label_random':\n",
        "                mutated_chromosome[i] = np.random.choice(np.setdiff1d(np.arange(num_clusters), mutated_chromosome[i]))\n",
        "    return mutated_chromosome\n",
        "\n",
        "\n",
        "\n",
        "\n",
        "def genetic_algorithm():\n",
        "    population = initialize_population()\n",
        "\n",
        "    for generation in range(num_generations):\n",
        "        fitness_values = np.array([calculate_fitness(chromosome) for chromosome in population])\n",
        "        selected_indices = np.argsort(fitness_values)[:population_size // 2]\n",
        "        selected_population = population[selected_indices]\n",
        "\n",
        "        new_population = []\n",
        "\n",
        "        for _ in range(population_size // 2):\n",
        "            parent1, parent2 = selected_population[np.random.choice(selected_population.shape[0], 2, replace=False)]\n",
        "            child1, child2 = crossover(parent1, parent2)\n",
        "            new_population.extend([mutate(child1), mutate(child2)])\n",
        "\n",
        "        population = np.array(new_population)\n",
        "\n",
        "    best_chromosome = population[np.argmin([calculate_fitness(chromosome) for chromosome in population])]\n",
        "    return best_chromosome\n",
        "\n",
        "\n",
        "\n",
        "best_solution = genetic_algorithm()\n",
        "\n",
        "print(\"Final Clustering Result:\")\n",
        "print(best_solution)\n"
      ]
    }
  ]
}